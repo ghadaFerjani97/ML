{
 "cells": [
  {
   "cell_type": "code",
   "execution_count": 20,
   "metadata": {},
   "outputs": [],
   "source": [
    "from sklearn import linear_model\n",
    "from arftools import *\n",
    "import numpy as np\n",
    "import pandas as pd\n",
    "import random\n",
    "import matplotlib.pyplot as plt\n",
    "from matplotlib import cm\n",
    "from pathlib import Path\n",
    "from random import shuffle"
   ]
  },
  {
   "cell_type": "markdown",
   "metadata": {},
   "source": [
    "## Load USPS data"
   ]
  },
  {
   "cell_type": "code",
   "execution_count": 2,
   "metadata": {},
   "outputs": [],
   "source": [
    "data_folder = Path(\"usps_data\")\n",
    "usps_train_file, usps_test_file = data_folder / \"USPS_train.txt\", data_folder / \"USPS_test.txt\""
   ]
  },
  {
   "cell_type": "code",
   "execution_count": 21,
   "metadata": {},
   "outputs": [],
   "source": [
    "def load_usps(fn):\n",
    "    with open(fn,\"r\") as f:\n",
    "        f.readline()\n",
    "        data = [[float(x) for x in l.split()] for l in f if len(l.split())>2]\n",
    "    tmp=np.array(data)\n",
    "    return tmp[:,1:],tmp[:,0].astype(int)\n",
    "\n",
    "def show_usps(data):\n",
    "    plt.imshow(data.reshape((16,16)),interpolation=\"nearest\",cmap=\"gray\")\n",
    "    \n",
    "def oneVone(lab1,lab2,train_data, test_data, train_lab, test_lab):\n",
    "    d_train = pd.DataFrame(data = train_lab, columns=[\"label\"])\n",
    "    d_test = pd.DataFrame(data = test_lab, columns=[\"label\"])\n",
    "    \n",
    "    #indexes train\n",
    "    index_lab1_train = d_train[d_train[\"label\"]==lab1].index\n",
    "    index_lab2_train = d_train[d_train[\"label\"]==lab2].index\n",
    "    ind_train = np.concatenate((index_lab1_train,index_lab2_train))\n",
    "    \n",
    "    #indexes test\n",
    "    index_lab1_test = d_test[d_test[\"label\"]==lab1].index\n",
    "    index_lab2_test = d_test[d_test[\"label\"]==lab2].index\n",
    "    ind_test = np.concatenate((index_lab1_test,index_lab2_test))\n",
    "\n",
    "    train_indexes = sorted(ind_train, key=lambda k: random.random())\n",
    "    test_indexes = sorted(ind_test, key=lambda k: random.random())\n",
    "\n",
    "    #Données de train + labels\n",
    "    trainx = np.array([train_data[i] for i in train_indexes])\n",
    "    trainy = np.array([1 if train_lab[i] == lab1 else -1 for i in train_indexes]) #1 => label=lab1, -1 => label=lab2\n",
    "\n",
    "    #Données de test + labels\n",
    "    testx = np.array([test_data[i] for i in test_indexes])\n",
    "    testy = np.array([1 if test_lab[i] == lab1 else -1 for i in test_indexes])\n",
    "    \n",
    "    return trainx, trainy, testx, testy"
   ]
  },
  {
   "cell_type": "markdown",
   "metadata": {},
   "source": [
    "## Perceptron"
   ]
  },
  {
   "cell_type": "code",
   "execution_count": 9,
   "metadata": {},
   "outputs": [],
   "source": [
    "from sklearn.linear_model import Perceptron"
   ]
  },
  {
   "cell_type": "markdown",
   "metadata": {},
   "source": [
    "- données artificielles 2D"
   ]
  },
  {
   "cell_type": "code",
   "execution_count": 11,
   "metadata": {},
   "outputs": [],
   "source": [
    "trainx,trainy =  gen_arti(nbex=1000,data_type=0,epsilon=1)\n",
    "testx,testy =  gen_arti(nbex=1000,data_type=0,epsilon=1)"
   ]
  },
  {
   "cell_type": "code",
   "execution_count": 16,
   "metadata": {},
   "outputs": [
    {
     "name": "stdout",
     "output_type": "stream",
     "text": [
      "error train: 0.897, error test: 0.901\n"
     ]
    }
   ],
   "source": [
    "#Linear model\n",
    "model = Perceptron()\n",
    "model.fit(trainx,trainy)\n",
    "print(f\"error train: {model.score(trainx, trainy)}, error test: {model.score(testx,testy)}\")\n",
    "\n",
    "plt.figure()\n",
    "plot_frontiere(trainx,model.predict,200)\n",
    "plot_data(trainx,trainy)"
   ]
  },
  {
   "cell_type": "code",
   "execution_count": 19,
   "metadata": {},
   "outputs": [
    {
     "name": "stdout",
     "output_type": "stream",
     "text": [
      "error train: 0.892, error test: 0.912\n"
     ]
    },
    {
     "data": {
      "image/png": "[encoded data removed]",
      "text/plain": [
       "<Figure size 432x288 with 1 Axes>"
      ]
     },
     "metadata": {
      "needs_background": "light"
     },
     "output_type": "display_data"
    }
   ],
   "source": [
    "#Penalize linear model\n",
    "penalize_model = Perceptron(penalty = \"l2\")\n",
    "penalize_model.fit(trainx,trainy)\n",
    "print(f\"error train: {penalize_model.score(trainx, trainy)}, error test: {penalize_model.score(testx,testy)}\")\n",
    "\n",
    "plt.figure()\n",
    "plot_frontiere(trainx,penalize_model.predict,200)\n",
    "plot_data(trainx,trainy)"
   ]
  },
  {
   "cell_type": "markdown",
   "metadata": {},
   "source": [
    "- USPS data 6 vs 9"
   ]
  },
  {
   "cell_type": "code",
   "execution_count": 34,
   "metadata": {},
   "outputs": [
    {
     "name": "stdout",
     "output_type": "stream",
     "text": [
      "nb classes -> 10\n",
      "nb train data ->7291\n",
      "nb test data -> 2007 \n"
     ]
    }
   ],
   "source": [
    "usps_train, usps_test = load_usps(usps_train_file), load_usps(usps_test_file)\n",
    "train_labels, test_labels = usps_train[1], usps_test[1]\n",
    "train_data, test_data = usps_train[0], usps_test[0]\n",
    "\n",
    "print(\"nb classes ->\",len(np.unique(train_labels)))\n",
    "print(f\"nb train data ->{len(train_data)}\\nnb test data -> {len(test_data)} \")"
   ]
  },
  {
   "cell_type": "code",
   "execution_count": 35,
   "metadata": {},
   "outputs": [],
   "source": [
    "data69_train, data69_train_labels, data69_test, data69_test_labels = oneVone(6,9,train_data,test_data,train_labels,test_labels)"
   ]
  },
  {
   "cell_type": "code",
   "execution_count": 38,
   "metadata": {},
   "outputs": [
    {
     "name": "stdout",
     "output_type": "stream",
     "text": [
      "error train: 1.0, error test: 0.9971181556195965\n"
     ]
    }
   ],
   "source": [
    "#Linear model\n",
    "model = Perceptron()\n",
    "model.fit(data69_train,data69_train_labels)\n",
    "print(f\"error train: {model.score(data69_train, data69_train_labels)}, error test: {model.score(data69_test,data69_test_labels)}\")"
   ]
  },
  {
   "cell_type": "code",
   "execution_count": 39,
   "metadata": {},
   "outputs": [
    {
     "name": "stdout",
     "output_type": "stream",
     "text": [
      "error train: 1.0, error test: 0.9971181556195965\n"
     ]
    }
   ],
   "source": [
    "#penalized linear model\n",
    "model_penalized = Perceptron(penalty = \"l2\")\n",
    "model_penalized.fit(data69_train,data69_train_labels)\n",
    "print(f\"error train: {model_penalized.score(data69_train, data69_train_labels)}, error test: {model_penalized.score(data69_test,data69_test_labels)}\")"
   ]
  },
  {
   "cell_type": "markdown",
   "metadata": {},
   "source": [
    "## SVM"
   ]
  },
  {
   "cell_type": "code",
   "execution_count": 40,
   "metadata": {},
   "outputs": [],
   "source": [
    "from sklearn import svm"
   ]
  }
 ],
 "metadata": {
  "kernelspec": {
   "display_name": "Python 3",
   "language": "python",
   "name": "python3"
  },
  "language_info": {
   "codemirror_mode": {
    "name": "ipython",
    "version": 3
   },
   "file_extension": ".py",
   "mimetype": "text/x-python",
   "name": "python",
   "nbconvert_exporter": "python",
   "pygments_lexer": "ipython3",
   "version": "3.7.3"
  }
 },
 "nbformat": 4,
 "nbformat_minor": 4
}
