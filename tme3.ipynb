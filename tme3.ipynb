{
 "cells": [
  {
   "cell_type": "code",
   "execution_count": 8,
   "metadata": {},
   "outputs": [],
   "source": [
    "from arftools import *\n",
    "import numpy as np\n",
    "import pandas as pd\n",
    "import random\n",
    "import matplotlib.pyplot as plt\n",
    "from matplotlib import cm\n",
    "import os.path\n",
    "\n",
    "\n",
    "def mse(datax,datay,w):\n",
    "    \"\"\" retourne la moyenne de l'erreur aux moindres carres \"\"\"\n",
    "    n, d = datax.shape\n",
    "    loss = np.dot((np.dot(datax,w.T)-datay),(np.dot(datax,w.T)-datay).T)\n",
    "    return loss/n\n",
    "\n",
    "def mse_g(datax,datay,w):\n",
    "    \"\"\" retourne le gradient moyen de l'erreur au moindres carres \"\"\"\n",
    "    weights = w\n",
    "    x,y = weights.shape\n",
    "    n, d = datax.shape\n",
    "    #import ipdb; ipdb.set_trace()\n",
    "    grad = 2*np.dot(datax.T,(np.dot(datax,weights.T)-datay))\n",
    "    avg_grad = grad.reshape(x,y)/n\n",
    "    return avg_grad\n",
    "\n",
    "def hinge(datax,datay,w):\n",
    "    \"\"\" retourn la moyenne de l'erreur hinge \"\"\"\n",
    "    \n",
    "    n, d = datax.shape\n",
    "    loss = np.maximum(np.zeros(n), -np.dot(datax,w.T)*datay)\n",
    "    loss_avg = np.mean(loss)\n",
    "    return loss_avg\n",
    "\n",
    "def hinge_g(datax,datay,w):\n",
    "    \"\"\" retourne le gradient moyen de l'erreur hinge \"\"\"\n",
    "    datax,datay=datax.reshape(len(datay),-1),datay.reshape(-1,1)\n",
    "    loss = np.maximum(np.zeros(len(datay)), -np.squeeze(np.dot(datax,w.T))*np.squeeze(datay))\n",
    "    loss = loss.reshape(-1,1)\n",
    "    grad = -np.sign(loss)*(datay*datax)\n",
    "    \n",
    "    return np.mean(grad, axis = 0)\n",
    "\n",
    "def hinge_g_biais(datax,datay,w):\n",
    "    \"\"\" retourne le gradient moyen de l'erreur hinge \"\"\"\n",
    "    datax,datay=datax.reshape(len(datay),-1),datay.reshape(-1,1)\n",
    "    datax_b = np.hstack((datax,np.ones((len(datay),1))))\n",
    "    loss = np.maximum(np.zeros(len(datay)), -np.squeeze(np.dot(datax_b,w.T))*np.squeeze(datay))\n",
    "    loss = loss.reshape(-1,1)\n",
    "    grad = -np.sign(loss)*(datay*datax_b)\n",
    "    #import ipdb; ipdb.set_trace()\n",
    "    return np.mean(grad, axis = 0)\n",
    "\n",
    "class Lineaire(object):\n",
    "    def __init__(self,loss=hinge,loss_g=hinge_g,max_iter=1000,eps=0.01,biais = False):\n",
    "        \"\"\" :loss: fonction de cout\n",
    "            :loss_g: gradient de la fonction de cout\n",
    "            :max_iter: nombre d'iterations\n",
    "            :eps: pas de gradient\n",
    "        \"\"\"\n",
    "        self.max_iter, self.eps = max_iter,eps\n",
    "        self.loss, self.loss_g = loss, loss_g\n",
    "        self.biais = biais\n",
    "\n",
    "    def fit(self,datax,datay,testx=None,testy=None):\n",
    "        \"\"\" :datax: donnees de train\n",
    "            :datay: label de train\n",
    "            :testx: donnees de test\n",
    "            :testy: label de test\n",
    "        \"\"\"\n",
    "        # on transforme datay en vecteur colonne\n",
    "        datay = datay.reshape(-1,1)\n",
    "        N = len(datay)\n",
    "        datax = datax.reshape(N,-1)\n",
    "        D = datax.shape[1]\n",
    "        \n",
    "        #dim w = D+1 pour l'inclusion du biais\n",
    "        if self.biais == True:\n",
    "            self.w = np.random.random((1,D+1))\n",
    "        else:\n",
    "            self.w = np.random.random((1,D))\n",
    "        \n",
    "        ######################\n",
    "        #descente de gradient#\n",
    "        ######################\n",
    "        \n",
    "        #Perceptron\n",
    "        \"\"\"if self.loss == hinge:\n",
    "            for i in range(self.max_iter):\n",
    "                for x, label in zip(datax, datay):\n",
    "                    if label*np.dot(self.w,x.T) < 0:\n",
    "                        self.w+= self.eps*label*x    \"\"\"      \n",
    "        for i in range(self.max_iter):\n",
    "            avg_grad = self.loss(datax, datay, self.w)\n",
    "            self.w-=self.eps*avg_grad\n",
    "            #import ipdb; ipdb.set_trace()\n",
    "            #Visualisation de l'apprentissage dans l'espace des poids\n",
    "            #plt.scatter(self.w[0][0],self.w[0][1], c=\"blue\")\n",
    "                \n",
    "                        \n",
    "                \n",
    "    def model(self,x):\n",
    "        #biais\n",
    "        if self.biais == True:\n",
    "            return 1 if (np.dot(self.w, np.concatenate((x,[1]))) >= 0) else -1\n",
    "        \n",
    "        else:\n",
    "            return 1 if np.dot(self.w, x) >= 0 else -1\n",
    "            \n",
    "    def predict(self,datax):\n",
    "        if len(datax.shape)==1:\n",
    "            datax = datax.reshape(1,-1)\n",
    "        pred = []\n",
    "        for x in datax:\n",
    "            pred.append(self.model(x))\n",
    "        return np.array(pred)\n",
    "            \n",
    "            \n",
    "\n",
    "    def score(self,datax,datay):\n",
    "        acc = 0\n",
    "        pred = self.predict(datax)\n",
    "        for p, label in zip(pred,datay):\n",
    "            if p == label:\n",
    "                acc+=1\n",
    "        return acc/len(datay)\n",
    "    \n",
    "    def getWeights(self):\n",
    "        return self.w\n",
    "            \n",
    "\n",
    "\n",
    "\n",
    "def load_usps(fn):\n",
    "    with open(fn,\"r\") as f:\n",
    "        f.readline()\n",
    "        data = [[float(x) for x in l.split()] for l in f if len(l.split())>2]\n",
    "    tmp=np.array(data)\n",
    "    return tmp[:,1:],tmp[:,0].astype(int)\n",
    "\n",
    "def show_usps(data):\n",
    "    plt.imshow(data.reshape((16,16)),interpolation=\"nearest\",cmap=\"gray\")\n",
    "\n",
    "\n",
    "\n",
    "def plot_error(datax,datay,f,step=10):\n",
    "    grid,x1list,x2list=make_grid(xmin=-4,xmax=4,ymin=-4,ymax=4)\n",
    "    plt.contourf(x1list,x2list,np.array([f(datax,datay,w) for w in grid]).reshape(x1list.shape),25)\n",
    "    plt.colorbar()\n",
    "    plt.show()"
   ]
  },
  {
   "cell_type": "code",
   "execution_count": 9,
   "metadata": {},
   "outputs": [
    {
     "data": {
      "image/png": "[encoded data removed]",
      "text/plain": [
       "<Figure size 432x288 with 2 Axes>"
      ]
     },
     "metadata": {
      "needs_background": "light"
     },
     "output_type": "display_data"
    },
    {
     "data": {
      "image/png": "[encoded data removed]",
      "text/plain": [
       "<Figure size 432x288 with 2 Axes>"
      ]
     },
     "metadata": {
      "needs_background": "light"
     },
     "output_type": "display_data"
    },
    {
     "name": "stdout",
     "output_type": "stream",
     "text": [
      "Erreur : train 0.094000, test 0.085000\n"
     ]
    },
    {
     "data": {
      "image/png": "[encoded data removed]",
      "text/plain": [
       "<Figure size 432x288 with 1 Axes>"
      ]
     },
     "metadata": {
      "needs_background": "light"
     },
     "output_type": "display_data"
    }
   ],
   "source": [
    "if __name__==\"__main__\":\n",
    "    \"\"\" Tracer des isocourbes de l'erreur \"\"\"\n",
    "    plt.ion()\n",
    "    trainx,trainy =  gen_arti(nbex=1000,data_type=0,epsilon=1)\n",
    "    testx,testy =  gen_arti(nbex=1000,data_type=0,epsilon=1)\n",
    "    plt.figure()\n",
    "    plot_error(trainx,trainy,mse)\n",
    "    plt.figure()\n",
    "    plot_error(trainx,trainy,hinge)\n",
    "    \n",
    "    \n",
    "    perceptron = Lineaire(hinge,hinge_g,max_iter=2000,eps=0.1,biais = False)\n",
    "    perceptron.fit(trainx,trainy)\n",
    "    \n",
    "    print(\"Erreur : train %f, test %f\"% (perceptron.score(trainx,trainy),perceptron.score(testx,testy)))\n",
    "    plt.figure()\n",
    "    plot_frontiere(trainx,perceptron.predict,200)\n",
    "    plot_data(trainx,trainy)"
   ]
  },
  {
   "cell_type": "markdown",
   "metadata": {},
   "source": [
    "## USPS data"
   ]
  },
  {
   "cell_type": "code",
   "execution_count": 2,
   "metadata": {},
   "outputs": [],
   "source": [
    "from pathlib import Path"
   ]
  },
  {
   "cell_type": "code",
   "execution_count": 3,
   "metadata": {},
   "outputs": [],
   "source": [
    "data_folder = Path(\"usps_data\")\n",
    "\n",
    "file_to_open = data_folder / \"USPS_train.txt\""
   ]
  },
  {
   "cell_type": "code",
   "execution_count": 4,
   "metadata": {},
   "outputs": [
    {
     "name": "stdout",
     "output_type": "stream",
     "text": [
      "nb classes -> 10\n",
      "nb data -> 7291\n"
     ]
    }
   ],
   "source": [
    "usps_data = load_usps(file_to_open)\n",
    "labels = usps_data[1]\n",
    "data = usps_data[0]\n",
    "\n",
    "print(\"nb classes ->\",len(np.unique(labels)))\n",
    "print(\"nb data ->\",len(data))"
   ]
  },
  {
   "cell_type": "code",
   "execution_count": 57,
   "metadata": {},
   "outputs": [
    {
     "name": "stdout",
     "output_type": "stream",
     "text": [
      "6\n"
     ]
    },
    {
     "data": {
      "image/png": "[encoded data removed]",
      "text/plain": [
       "<Figure size 432x288 with 1 Axes>"
      ]
     },
     "metadata": {
      "needs_background": "light"
     },
     "output_type": "display_data"
    }
   ],
   "source": [
    "show_usps(data[0])\n",
    "print(labels[0])"
   ]
  },
  {
   "cell_type": "markdown",
   "metadata": {},
   "source": [
    "- Fonction to load data from 2 labels"
   ]
  },
  {
   "cell_type": "code",
   "execution_count": 58,
   "metadata": {},
   "outputs": [],
   "source": [
    "from random import shuffle\n",
    "def prepare_data(lab1,lab2):\n",
    "    d = pd.DataFrame(data = labels, columns=[\"label\"])\n",
    "    index_lab1 = d[d[\"label\"]==lab1].index\n",
    "    index_lab2 = d[d[\"label\"]==lab2].index\n",
    "    ind = np.concatenate((index_lab1,index_lab2))\n",
    "\n",
    "    train_indexes,test_indexes = [],[]\n",
    "\n",
    "    #On sépare les indexes train/test (rapport 1/5 -> test)\n",
    "    for i in range(len(ind)):\n",
    "        if i%5 == 0:\n",
    "            test_indexes.append(ind[i])\n",
    "        else:\n",
    "            train_indexes.append(ind[i])\n",
    "\n",
    "    train_indexes = sorted(train_indexes, key=lambda k: random.random())\n",
    "\n",
    "    #Données de train + labels\n",
    "    trainx = np.array([data[i] for i in train_indexes])\n",
    "    trainy = np.array([1 if labels[i] == lab1 else -1 for i in train_indexes]) #1 => label=6, -1 => label=9\n",
    "\n",
    "    #Données de test + labels\n",
    "    testx = np.array([data[i] for i in test_indexes])\n",
    "    testy = np.array([1 if labels[i] == lab1 else -1 for i in test_indexes])\n",
    "    \n",
    "    return trainx, trainy, testx, testy"
   ]
  },
  {
   "cell_type": "markdown",
   "metadata": {},
   "source": [
    "### Perceptron 6 vs 9"
   ]
  },
  {
   "cell_type": "markdown",
   "metadata": {},
   "source": [
    "- load and visualize data"
   ]
  },
  {
   "cell_type": "code",
   "execution_count": 59,
   "metadata": {},
   "outputs": [
    {
     "name": "stdout",
     "output_type": "stream",
     "text": [
      "label -> 1\n"
     ]
    },
    {
     "data": {
      "image/png": "[encoded data removed]",
      "text/plain": [
       "<Figure size 432x288 with 1 Axes>"
      ]
     },
     "metadata": {
      "needs_background": "light"
     },
     "output_type": "display_data"
    }
   ],
   "source": [
    "data69_train, data69_train_labels, data69_test, data69_test_labels = prepare_data(6,9)\n",
    "\n",
    "i = 0\n",
    "show_usps(data69_train[i])\n",
    "print(\"label ->\",data69_train_labels[i])"
   ]
  },
  {
   "cell_type": "markdown",
   "metadata": {},
   "source": [
    "- Training + Score"
   ]
  },
  {
   "cell_type": "code",
   "execution_count": 60,
   "metadata": {},
   "outputs": [
    {
     "name": "stdout",
     "output_type": "stream",
     "text": [
      "Erreur : train 1.000000, test 0.980916\n"
     ]
    }
   ],
   "source": [
    "perceptron69 = Lineaire(hinge,hinge_g,max_iter=1000,eps=0.1)\n",
    "perceptron69.fit(data69_train,data69_train_labels)\n",
    "print(\"Erreur : train %f, test %f\"% (perceptron69.score(data69_train,data69_train_labels),perceptron69.score(data69_test,data69_test_labels)))"
   ]
  },
  {
   "cell_type": "markdown",
   "metadata": {},
   "source": [
    "- Weights visualization"
   ]
  },
  {
   "cell_type": "code",
   "execution_count": 88,
   "metadata": {},
   "outputs": [
    {
     "data": {
      "image/png": "[encoded data removed]",
      "text/plain": [
       "<Figure size 432x288 with 2 Axes>"
      ]
     },
     "metadata": {
      "needs_background": "light"
     },
     "output_type": "display_data"
    }
   ],
   "source": [
    "w = perceptron69.getWeights()\n",
    "weights = w[0][0:256].reshape((16,16))\n",
    "#print(weights.shape)\n",
    "plt.imshow(weights)\n",
    "plt.colorbar()\n",
    "plt.show()"
   ]
  },
  {
   "cell_type": "markdown",
   "metadata": {},
   "source": [
    "### Perceptron 8 vs 1"
   ]
  },
  {
   "cell_type": "markdown",
   "metadata": {},
   "source": [
    "- Load and visualize data"
   ]
  },
  {
   "cell_type": "code",
   "execution_count": 90,
   "metadata": {},
   "outputs": [
    {
     "name": "stdout",
     "output_type": "stream",
     "text": [
      "label -> 1\n"
     ]
    },
    {
     "data": {
      "image/png": "[encoded data removed]",
      "text/plain": [
       "<Figure size 432x288 with 1 Axes>"
      ]
     },
     "metadata": {
      "needs_background": "light"
     },
     "output_type": "display_data"
    }
   ],
   "source": [
    "data81_train, data81_train_labels, data81_test, data81_test_labels = prepare_data(8,1)\n",
    "\n",
    "i = 0\n",
    "show_usps(data81_train[i])\n",
    "print(\"label ->\",data81_train_labels[i])"
   ]
  },
  {
   "cell_type": "markdown",
   "metadata": {},
   "source": [
    "- Training + Score"
   ]
  },
  {
   "cell_type": "code",
   "execution_count": 91,
   "metadata": {},
   "outputs": [
    {
     "name": "stdout",
     "output_type": "stream",
     "text": [
      "Erreur : train 0.995958, test 0.987097\n"
     ]
    }
   ],
   "source": [
    "perceptron81 = Lineaire(hinge,hinge_g,max_iter=1000,eps=0.1)\n",
    "perceptron81.fit(data81_train,data81_train_labels)\n",
    "print(\"Erreur : train %f, test %f\"% (perceptron81.score(data81_train,data81_train_labels),perceptron81.score(data81_test,data81_test_labels)))"
   ]
  },
  {
   "cell_type": "markdown",
   "metadata": {},
   "source": [
    "- Weights visualization"
   ]
  },
  {
   "cell_type": "code",
   "execution_count": 116,
   "metadata": {},
   "outputs": [
    {
     "data": {
      "image/png": "[encoded data removed]",
      "text/plain": [
       "<Figure size 432x288 with 2 Axes>"
      ]
     },
     "metadata": {
      "needs_background": "light"
     },
     "output_type": "display_data"
    }
   ],
   "source": [
    "w = perceptron81.getWeights()\n",
    "weights = w[0][0:256].reshape((16,16))\n",
    "#print(weights)\n",
    "plt.imshow(weights)\n",
    "plt.colorbar()\n",
    "plt.show()"
   ]
  },
  {
   "cell_type": "markdown",
   "metadata": {},
   "source": [
    "## Perceptron all vs one"
   ]
  },
  {
   "cell_type": "code",
   "execution_count": 93,
   "metadata": {},
   "outputs": [],
   "source": [
    "from random import shuffle\n",
    "def prepare_data2(lab):\n",
    "\n",
    "    train_indexes,test_indexes = [],[]\n",
    "\n",
    "    #On sépare les indexes train/test (rapport 1/5 -> test)\n",
    "    for i in range(len(labels)):\n",
    "        if i%5 == 0:\n",
    "            test_indexes.append(i)\n",
    "        else:\n",
    "            train_indexes.append(i)\n",
    "\n",
    "    train_indexes = sorted(train_indexes, key=lambda k: random.random())\n",
    "\n",
    "    #Données de train + labels\n",
    "    trainx = np.array([data[i] for i in train_indexes])\n",
    "    trainy = np.array([1 if labels[i] == lab else -1 for i in train_indexes]) #1 => label=lab, -1 => label!=lab\n",
    "\n",
    "    #Données de test + labels\n",
    "    testx = np.array([data[i] for i in test_indexes])\n",
    "    testy = np.array([1 if labels[i] == lab else -1 for i in test_indexes])\n",
    "    \n",
    "    return trainx, trainy, testx, testy"
   ]
  },
  {
   "cell_type": "code",
   "execution_count": 94,
   "metadata": {},
   "outputs": [],
   "source": [
    "data6_train, data6_train_labels, data6_test, data6_test_labels = prepare_data2(6)"
   ]
  },
  {
   "cell_type": "code",
   "execution_count": 109,
   "metadata": {},
   "outputs": [
    {
     "name": "stdout",
     "output_type": "stream",
     "text": [
      "label-> 28 1\n"
     ]
    },
    {
     "data": {
      "image/png": "[encoded data removed]",
      "text/plain": [
       "<Figure size 432x288 with 1 Axes>"
      ]
     },
     "metadata": {
      "needs_background": "light"
     },
     "output_type": "display_data"
    }
   ],
   "source": [
    "i=28\n",
    "show_usps(data6_train[i])\n",
    "print(\"label->\",i, data6_train_labels[i])"
   ]
  },
  {
   "cell_type": "code",
   "execution_count": 111,
   "metadata": {},
   "outputs": [
    {
     "name": "stdout",
     "output_type": "stream",
     "text": [
      "Erreur : train 0.986283, test 0.981494\n"
     ]
    }
   ],
   "source": [
    "perceptron6 = Lineaire(hinge,hinge_g,max_iter=1000,eps=0.1)\n",
    "perceptron6.fit(data6_train,data6_train_labels)\n",
    "print(\"Erreur : train %f, test %f\"% (perceptron6.score(data6_train,data6_train_labels),perceptron6.score(data6_test,data6_test_labels)))"
   ]
  },
  {
   "cell_type": "code",
   "execution_count": 112,
   "metadata": {},
   "outputs": [
    {
     "data": {
      "image/png": "[encoded data removed]",
      "text/plain": [
       "<Figure size 432x288 with 2 Axes>"
      ]
     },
     "metadata": {
      "needs_background": "light"
     },
     "output_type": "display_data"
    }
   ],
   "source": [
    "w = perceptron6.getWeights()\n",
    "weights = w[0][0:256].reshape((16,16))\n",
    "#print(weights.shape)\n",
    "plt.imshow(weights)\n",
    "plt.colorbar()\n",
    "plt.show()"
   ]
  },
  {
   "cell_type": "code",
   "execution_count": null,
   "metadata": {},
   "outputs": [],
   "source": []
  }
 ],
 "metadata": {
  "kernelspec": {
   "display_name": "Python 3",
   "language": "python",
   "name": "python3"
  },
  "language_info": {
   "codemirror_mode": {
    "name": "ipython",
    "version": 3
   },
   "file_extension": ".py",
   "mimetype": "text/x-python",
   "name": "python",
   "nbconvert_exporter": "python",
   "pygments_lexer": "ipython3",
   "version": "3.7.3"
  }
 },
 "nbformat": 4,
 "nbformat_minor": 4
}
